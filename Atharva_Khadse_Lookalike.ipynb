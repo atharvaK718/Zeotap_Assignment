{
 "cells": [
  {
   "cell_type": "markdown",
   "id": "cfc9f860-0c50-4177-af3c-ee842088d664",
   "metadata": {},
   "source": [
    "# Import Libraries"
   ]
  },
  {
   "cell_type": "code",
   "execution_count": 1,
   "id": "966c1087-822c-4e28-bad2-583ed66b8bdd",
   "metadata": {},
   "outputs": [],
   "source": [
    "import pandas as pd\n",
    "import numpy as np\n",
    "from sklearn.preprocessing import MinMaxScaler\n",
    "from sklearn.metrics.pairwise import cosine_similarity"
   ]
  },
  {
   "cell_type": "markdown",
   "id": "55c134df-f0e8-4ce4-aa2e-c0d3969cf070",
   "metadata": {},
   "source": [
    "# Load the datasets"
   ]
  },
  {
   "cell_type": "code",
   "execution_count": 3,
   "id": "b55446fb-71d1-44cb-9786-f5469fda3ed8",
   "metadata": {},
   "outputs": [],
   "source": [
    "customers = pd.read_csv('Customers.csv')\n",
    "products = pd.read_csv('Products.csv')\n",
    "transactions = pd.read_csv('Transactions.csv')"
   ]
  },
  {
   "cell_type": "markdown",
   "id": "8ffe685b-e15a-462c-b9f4-d99a6a7f3a64",
   "metadata": {},
   "source": [
    "### Merge datasets"
   ]
  },
  {
   "cell_type": "code",
   "execution_count": 4,
   "id": "86a56e7c-8e36-4044-b73b-ed29541ad29a",
   "metadata": {},
   "outputs": [],
   "source": [
    "merged_data = transactions.merge(customers, on='CustomerID').merge(products, on='ProductID')"
   ]
  },
  {
   "cell_type": "markdown",
   "id": "da8e334f-793f-49f0-afce-1ce57d8623ca",
   "metadata": {},
   "source": [
    "# Feature Engineering"
   ]
  },
  {
   "cell_type": "markdown",
   "id": "74e668ad-e3dd-4413-a358-039158029a20",
   "metadata": {},
   "source": [
    "### Aggregate customer transaction data"
   ]
  },
  {
   "cell_type": "code",
   "execution_count": 10,
   "id": "43ed8b02-0685-40e7-86f2-7aa5dc906b9c",
   "metadata": {},
   "outputs": [],
   "source": [
    "customer_features = merged_data.groupby('CustomerID').agg({\n",
    "    'TotalValue': 'sum',\n",
    "    'TransactionID': 'count',  # Number of transactions\n",
    "    'Category': lambda x: x.value_counts().idxmax()  # Most purchased category\n",
    "}).rename(columns={\n",
    "    'TotalValue': 'TotalSpend',\n",
    "    'TransactionID': 'PurchaseFrequency',\n",
    "    'Category': 'PreferredCategory'\n",
    "}).reset_index()"
   ]
  },
  {
   "cell_type": "markdown",
   "id": "5fab10d3-cd60-48b2-99ff-b3f0ee663157",
   "metadata": {},
   "source": [
    "### Merge with customer profile"
   ]
  },
  {
   "cell_type": "code",
   "execution_count": 11,
   "id": "1bd3e9f4-7646-4640-9209-6f26156a9859",
   "metadata": {},
   "outputs": [],
   "source": [
    "customer_features = customer_features.merge(customers, on='CustomerID')"
   ]
  },
  {
   "cell_type": "markdown",
   "id": "d11ce328-ba08-4b3e-b794-68ef8a22047b",
   "metadata": {},
   "source": [
    "### Encode categorical variables"
   ]
  },
  {
   "cell_type": "code",
   "execution_count": 12,
   "id": "16c4cf2a-c62d-46b0-a9d2-87bf425a01d6",
   "metadata": {},
   "outputs": [],
   "source": [
    "customer_features['PreferredCategory'] = customer_features['PreferredCategory'].astype('category').cat.codes\n",
    "customer_features['Region'] = customer_features['Region'].astype('category').cat.codes"
   ]
  },
  {
   "cell_type": "markdown",
   "id": "2ea8adfa-13a7-4677-805c-058fd46d1bf1",
   "metadata": {},
   "source": [
    "# Normalize features"
   ]
  },
  {
   "cell_type": "code",
   "execution_count": 15,
   "id": "292c32b5-bd47-412b-97ef-041bfef027a4",
   "metadata": {},
   "outputs": [],
   "source": [
    "# Select only numerical columns for scaling\n",
    "numerical_features = customer_features.drop(columns=['CustomerID', 'CustomerName', 'SignupDate'])\n",
    "scaler = MinMaxScaler()\n",
    "normalized_features = scaler.fit_transform(numerical_features)\n",
    "\n",
    "# Convert normalized features back to a DataFrame for easier interpretation\n",
    "normalized_features_df = pd.DataFrame(\n",
    "    normalized_features,\n",
    "    columns=numerical_features.columns,\n",
    "    index=customer_features['CustomerID']\n",
    ")"
   ]
  },
  {
   "cell_type": "markdown",
   "id": "1b42b474-8070-4f84-8b91-75328963f749",
   "metadata": {},
   "source": [
    "# Compute similarity matrix"
   ]
  },
  {
   "cell_type": "code",
   "execution_count": 16,
   "id": "562e6777-ae12-49c8-b438-5a2b9901f208",
   "metadata": {},
   "outputs": [],
   "source": [
    "similarity_matrix = cosine_similarity(normalized_features_df)"
   ]
  },
  {
   "cell_type": "markdown",
   "id": "d32eb4fe-6a3e-4ceb-bcb9-a23a4c7a3071",
   "metadata": {},
   "source": [
    "# Generate Lookalike Recommendations"
   ]
  },
  {
   "cell_type": "code",
   "execution_count": 18,
   "id": "e5a4a4f1-f522-4785-9e65-2f0e7a1a162c",
   "metadata": {},
   "outputs": [],
   "source": [
    "lookalike_results = {}\n",
    "for i, customer_id in enumerate(normalized_features_df.index):\n",
    "    # Get similarity scores for all other customers\n",
    "    similar_indices = np.argsort(similarity_matrix[i])[::-1][1:4]  # Top 3 similar customers\n",
    "    similar_customers = [\n",
    "        (normalized_features_df.index[j], similarity_matrix[i][j])\n",
    "        for j in similar_indices\n",
    "    ]\n",
    "    lookalike_results[customer_id] = similar_customers"
   ]
  },
  {
   "cell_type": "markdown",
   "id": "55ce1c81-1779-43bc-a634-4b72bb99b319",
   "metadata": {},
   "source": [
    "# Output Lookalike CSV"
   ]
  },
  {
   "cell_type": "code",
   "execution_count": 22,
   "id": "3f2df8ac-251c-4872-b090-286f06e4c9fa",
   "metadata": {},
   "outputs": [
    {
     "name": "stdout",
     "output_type": "stream",
     "text": [
      "   CustomerID                                         Lookalikes\n",
      "0       C0001  [('C0107', 0.9998220857003319), ('C0190', 0.99...\n",
      "1       C0002  [('C0186', 0.9979310971407718), ('C0178', 0.99...\n",
      "2       C0003  [('C0133', 0.9999493727058358), ('C0052', 0.99...\n",
      "3       C0004  [('C0132', 0.9977259826289412), ('C0073', 0.99...\n",
      "4       C0005  [('C0178', 0.9996714660422606), ('C0186', 0.99...\n",
      "5       C0006  [('C0063', 0.999787939417756), ('C0187', 0.996...\n",
      "6       C0007  [('C0115', 0.9978094704222316), ('C0005', 0.99...\n",
      "7       C0008  [('C0127', 0.992103304373321), ('C0111', 0.986...\n",
      "8       C0009  [('C0157', 0.9998892505829147), ('C0181', 0.99...\n",
      "9       C0010  [('C0113', 0.9946633391063928), ('C0111', 0.99...\n",
      "10      C0011  [('C0137', 0.9994905572343078), ('C0191', 0.99...\n",
      "11      C0012  [('C0062', 0.9996385359929274), ('C0183', 0.99...\n",
      "12      C0013  [('C0099', 0.9976887723054378), ('C0108', 0.99...\n",
      "13      C0014  [('C0060', 0.9997760875144579), ('C0198', 0.97...\n",
      "14      C0015  [('C0071', 0.9984538519943008), ('C0032', 0.99...\n",
      "15      C0016  [('C0183', 0.9999980211624669), ('C0061', 0.99...\n",
      "16      C0017  [('C0156', 0.9921411313959697), ('C0057', 0.98...\n",
      "17      C0018  [('C0082', 0.9996479300498804), ('C0073', 0.99...\n",
      "18      C0019  [('C0139', 0.9864205858407956), ('C0156', 0.97...\n",
      "19      C0020  [('C0151', 0.9972280993163338), ('C0130', 0.97...\n"
     ]
    }
   ],
   "source": [
    "lookalike_subset = {cust: lookalike_results[cust] for cust in customer_features['CustomerID'] if cust in [f'C{str(i).zfill(4)}' for i in range(1, 21)]}\n",
    "\n",
    "lookalike_df = pd.DataFrame([\n",
    "    {'CustomerID': cust, 'Lookalikes': str(lookalikes)}\n",
    "    for cust, lookalikes in lookalike_subset.items()\n",
    "])\n",
    "lookalike_csv_path = 'Lookalike.csv'\n",
    "lookalike_df.to_csv(lookalike_csv_path, index=False)\n",
    "\n",
    "# Display Lookalike.csv for validation\n",
    "print(lookalike_df)"
   ]
  },
  {
   "cell_type": "code",
   "execution_count": null,
   "id": "22f3ba9c-8b65-481b-8312-7e68071e7534",
   "metadata": {},
   "outputs": [],
   "source": []
  }
 ],
 "metadata": {
  "kernelspec": {
   "display_name": "Python 3 (ipykernel)",
   "language": "python",
   "name": "python3"
  },
  "language_info": {
   "codemirror_mode": {
    "name": "ipython",
    "version": 3
   },
   "file_extension": ".py",
   "mimetype": "text/x-python",
   "name": "python",
   "nbconvert_exporter": "python",
   "pygments_lexer": "ipython3",
   "version": "3.12.4"
  }
 },
 "nbformat": 4,
 "nbformat_minor": 5
}
